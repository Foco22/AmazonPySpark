{
 "cells": [
  {
   "cell_type": "code",
   "execution_count": 1,
   "metadata": {},
   "outputs": [
    {
     "name": "stdout",
     "output_type": "stream",
     "text": [
      "Starting Spark application\n"
     ]
    },
    {
     "data": {
      "text/html": [
       "<table>\n",
       "<tr><th>ID</th><th>YARN Application ID</th><th>Kind</th><th>State</th><th>Spark UI</th><th>Driver log</th><th>Current session?</th></tr><tr><td>0</td><td>application_1613506460428_0001</td><td>pyspark</td><td>idle</td><td><a target=\"_blank\" href=\"http://ip-172-31-9-211.ec2.internal:20888/proxy/application_1613506460428_0001/\">Link</a></td><td><a target=\"_blank\" href=\"http://ip-172-31-0-197.ec2.internal:8042/node/containerlogs/container_1613506460428_0001_01_000001/livy\">Link</a></td><td>✔</td></tr></table>"
      ],
      "text/plain": [
       "<IPython.core.display.HTML object>"
      ]
     },
     "metadata": {},
     "output_type": "display_data"
    },
    {
     "data": {
      "application/vnd.jupyter.widget-view+json": {
       "model_id": "",
       "version_major": 2,
       "version_minor": 0
      },
      "text/plain": [
       "FloatProgress(value=0.0, bar_style='info', description='Progress:', layout=Layout(height='25px', width='50%'),…"
      ]
     },
     "metadata": {},
     "output_type": "display_data"
    },
    {
     "name": "stdout",
     "output_type": "stream",
     "text": [
      "SparkSession available as 'spark'.\n"
     ]
    },
    {
     "data": {
      "application/vnd.jupyter.widget-view+json": {
       "model_id": "",
       "version_major": 2,
       "version_minor": 0
      },
      "text/plain": [
       "FloatProgress(value=0.0, bar_style='info', description='Progress:', layout=Layout(height='25px', width='50%'),…"
      ]
     },
     "metadata": {},
     "output_type": "display_data"
    }
   ],
   "source": [
    "from pyspark.sql import SparkSession"
   ]
  },
  {
   "cell_type": "code",
   "execution_count": 2,
   "metadata": {},
   "outputs": [
    {
     "data": {
      "application/vnd.jupyter.widget-view+json": {
       "model_id": "",
       "version_major": 2,
       "version_minor": 0
      },
      "text/plain": [
       "FloatProgress(value=0.0, bar_style='info', description='Progress:', layout=Layout(height='25px', width='50%'),…"
      ]
     },
     "metadata": {},
     "output_type": "display_data"
    }
   ],
   "source": [
    "spark = SparkSession\\\n",
    "        .builder\\\n",
    "        .appName('franciscoM')\\\n",
    "        .master('Local[*]')\\\n",
    "        .enableHiveSupport()\\\n",
    "        .getOrCreate()"
   ]
  },
  {
   "cell_type": "code",
   "execution_count": 3,
   "metadata": {},
   "outputs": [
    {
     "data": {
      "application/vnd.jupyter.widget-view+json": {
       "model_id": "",
       "version_major": 2,
       "version_minor": 0
      },
      "text/plain": [
       "FloatProgress(value=0.0, bar_style='info', description='Progress:', layout=Layout(height='25px', width='50%'),…"
      ]
     },
     "metadata": {},
     "output_type": "display_data"
    },
    {
     "name": "stdout",
     "output_type": "stream",
     "text": [
      "<pyspark.sql.session.SparkSession object at 0x7fcdb979f490>"
     ]
    }
   ],
   "source": [
    "spark"
   ]
  },
  {
   "cell_type": "markdown",
   "metadata": {},
   "source": [
    "## Carga de datos"
   ]
  },
  {
   "cell_type": "code",
   "execution_count": 12,
   "metadata": {},
   "outputs": [
    {
     "data": {
      "application/vnd.jupyter.widget-view+json": {
       "model_id": "",
       "version_major": 2,
       "version_minor": 0
      },
      "text/plain": [
       "FloatProgress(value=0.0, bar_style='info', description='Progress:', layout=Layout(height='25px', width='50%'),…"
      ]
     },
     "metadata": {},
     "output_type": "display_data"
    }
   ],
   "source": [
    "df_spark = spark.read.csv(\"s3://focobucket/titanic/train.csv\", header = True)"
   ]
  },
  {
   "cell_type": "code",
   "execution_count": 13,
   "metadata": {},
   "outputs": [
    {
     "data": {
      "application/vnd.jupyter.widget-view+json": {
       "model_id": "",
       "version_major": 2,
       "version_minor": 0
      },
      "text/plain": [
       "FloatProgress(value=0.0, bar_style='info', description='Progress:', layout=Layout(height='25px', width='50%'),…"
      ]
     },
     "metadata": {},
     "output_type": "display_data"
    },
    {
     "name": "stdout",
     "output_type": "stream",
     "text": [
      "+-----------+--------+------+--------------------+------+----+-----+-----+----------------+-------+-----+--------+\n",
      "|PassengerId|Survived|Pclass|                Name|   Sex| Age|SibSp|Parch|          Ticket|   Fare|Cabin|Embarked|\n",
      "+-----------+--------+------+--------------------+------+----+-----+-----+----------------+-------+-----+--------+\n",
      "|          1|       0|     3|Braund, Mr. Owen ...|  male|  22|    1|    0|       A/5 21171|   7.25| null|       S|\n",
      "|          2|       1|     1|Cumings, Mrs. Joh...|female|  38|    1|    0|        PC 17599|71.2833|  C85|       C|\n",
      "|          3|       1|     3|Heikkinen, Miss. ...|female|  26|    0|    0|STON/O2. 3101282|  7.925| null|       S|\n",
      "|          4|       1|     1|Futrelle, Mrs. Ja...|female|  35|    1|    0|          113803|   53.1| C123|       S|\n",
      "|          5|       0|     3|Allen, Mr. Willia...|  male|  35|    0|    0|          373450|   8.05| null|       S|\n",
      "|          6|       0|     3|    Moran, Mr. James|  male|null|    0|    0|          330877| 8.4583| null|       Q|\n",
      "|          7|       0|     1|McCarthy, Mr. Tim...|  male|  54|    0|    0|           17463|51.8625|  E46|       S|\n",
      "|          8|       0|     3|Palsson, Master. ...|  male|   2|    3|    1|          349909| 21.075| null|       S|\n",
      "|          9|       1|     3|Johnson, Mrs. Osc...|female|  27|    0|    2|          347742|11.1333| null|       S|\n",
      "|         10|       1|     2|Nasser, Mrs. Nich...|female|  14|    1|    0|          237736|30.0708| null|       C|\n",
      "|         11|       1|     3|Sandstrom, Miss. ...|female|   4|    1|    1|         PP 9549|   16.7|   G6|       S|\n",
      "|         12|       1|     1|Bonnell, Miss. El...|female|  58|    0|    0|          113783|  26.55| C103|       S|\n",
      "|         13|       0|     3|Saundercock, Mr. ...|  male|  20|    0|    0|       A/5. 2151|   8.05| null|       S|\n",
      "|         14|       0|     3|Andersson, Mr. An...|  male|  39|    1|    5|          347082| 31.275| null|       S|\n",
      "|         15|       0|     3|Vestrom, Miss. Hu...|female|  14|    0|    0|          350406| 7.8542| null|       S|\n",
      "|         16|       1|     2|Hewlett, Mrs. (Ma...|female|  55|    0|    0|          248706|     16| null|       S|\n",
      "|         17|       0|     3|Rice, Master. Eugene|  male|   2|    4|    1|          382652| 29.125| null|       Q|\n",
      "|         18|       1|     2|Williams, Mr. Cha...|  male|null|    0|    0|          244373|     13| null|       S|\n",
      "|         19|       0|     3|Vander Planke, Mr...|female|  31|    1|    0|          345763|     18| null|       S|\n",
      "|         20|       1|     3|Masselmani, Mrs. ...|female|null|    0|    0|            2649|  7.225| null|       C|\n",
      "+-----------+--------+------+--------------------+------+----+-----+-----+----------------+-------+-----+--------+\n",
      "only showing top 20 rows"
     ]
    }
   ],
   "source": [
    "df_spark.show()"
   ]
  },
  {
   "cell_type": "code",
   "execution_count": 17,
   "metadata": {},
   "outputs": [
    {
     "data": {
      "application/vnd.jupyter.widget-view+json": {
       "model_id": "",
       "version_major": 2,
       "version_minor": 0
      },
      "text/plain": [
       "FloatProgress(value=0.0, bar_style='info', description='Progress:', layout=Layout(height='25px', width='50%'),…"
      ]
     },
     "metadata": {},
     "output_type": "display_data"
    },
    {
     "name": "stdout",
     "output_type": "stream",
     "text": [
      "root\n",
      " |-- PassengerId: string (nullable = true)\n",
      " |-- Survived: string (nullable = true)\n",
      " |-- Pclass: string (nullable = true)\n",
      " |-- Name: string (nullable = true)\n",
      " |-- Sex: string (nullable = true)\n",
      " |-- Age: string (nullable = true)\n",
      " |-- SibSp: string (nullable = true)\n",
      " |-- Parch: string (nullable = true)\n",
      " |-- Ticket: string (nullable = true)\n",
      " |-- Fare: string (nullable = true)\n",
      " |-- Cabin: string (nullable = true)\n",
      " |-- Embarked: string (nullable = true)"
     ]
    }
   ],
   "source": [
    "df_spark.printSchema()"
   ]
  },
  {
   "cell_type": "code",
   "execution_count": 19,
   "metadata": {},
   "outputs": [
    {
     "data": {
      "application/vnd.jupyter.widget-view+json": {
       "model_id": "",
       "version_major": 2,
       "version_minor": 0
      },
      "text/plain": [
       "FloatProgress(value=0.0, bar_style='info', description='Progress:', layout=Layout(height='25px', width='50%'),…"
      ]
     },
     "metadata": {},
     "output_type": "display_data"
    }
   ],
   "source": [
    "from pyspark.sql.types import DoubleType\n",
    "\n",
    "df_spark = df_spark.withColumn(\"Survived\", df_spark[\"Survived\"].cast(DoubleType()))\n",
    "df_spark = df_spark.withColumn(\"Pclass\", df_spark[\"Pclass\"].cast(DoubleType()))\n",
    "df_spark = df_spark.withColumn(\"Age\", df_spark[\"Age\"].cast(DoubleType()))\n",
    "df_spark = df_spark.withColumn(\"SibSp\", df_spark[\"SibSp\"].cast(DoubleType()))\n",
    "df_spark = df_spark.withColumn(\"Parch\", df_spark[\"Parch\"].cast(DoubleType()))\n",
    "df_spark = df_spark.withColumn(\"Fare\", df_spark[\"Fare\"].cast(DoubleType()))"
   ]
  },
  {
   "cell_type": "markdown",
   "metadata": {},
   "source": [
    "## Registros Nulos"
   ]
  },
  {
   "cell_type": "code",
   "execution_count": 20,
   "metadata": {},
   "outputs": [
    {
     "data": {
      "application/vnd.jupyter.widget-view+json": {
       "model_id": "",
       "version_major": 2,
       "version_minor": 0
      },
      "text/plain": [
       "FloatProgress(value=0.0, bar_style='info', description='Progress:', layout=Layout(height='25px', width='50%'),…"
      ]
     },
     "metadata": {},
     "output_type": "display_data"
    },
    {
     "name": "stdout",
     "output_type": "stream",
     "text": [
      "{'PassengerId': 0.0, 'Survived': 0.0, 'Pclass': 0.0, 'Name': 0.0, 'Sex': 0.0, 'Age': 0.19865319865319866, 'SibSp': 0.0, 'Parch': 0.0, 'Ticket': 0.0, 'Fare': 0.0, 'Cabin': 0.7710437710437711, 'Embarked': 0.002244668911335578}"
     ]
    }
   ],
   "source": [
    "Dict_Null = {col:df_spark.filter(df_spark[col].isNull()).count()/df_spark.count() for col in df_spark.columns}\n",
    "Dict_Null"
   ]
  },
  {
   "cell_type": "markdown",
   "metadata": {},
   "source": [
    "Debido a que Cabin, es una columna coon muchos valores nulos, sera eliminada del dataset. Por otro lado, la columna Age, los valores nulos seran remplazados por la mediana de la columna. Para Finalizar, los valores nulos de la columna Embarked seran eliminado del dataset."
   ]
  },
  {
   "cell_type": "code",
   "execution_count": 22,
   "metadata": {},
   "outputs": [
    {
     "data": {
      "application/vnd.jupyter.widget-view+json": {
       "model_id": "",
       "version_major": 2,
       "version_minor": 0
      },
      "text/plain": [
       "FloatProgress(value=0.0, bar_style='info', description='Progress:', layout=Layout(height='25px', width='50%'),…"
      ]
     },
     "metadata": {},
     "output_type": "display_data"
    },
    {
     "name": "stdout",
     "output_type": "stream",
     "text": [
      "+-----------+--------+------+--------------------+------+----+-----+-----+----------------+-------+--------+\n",
      "|PassengerId|Survived|Pclass|                Name|   Sex| Age|SibSp|Parch|          Ticket|   Fare|Embarked|\n",
      "+-----------+--------+------+--------------------+------+----+-----+-----+----------------+-------+--------+\n",
      "|          1|     0.0|   3.0|Braund, Mr. Owen ...|  male|22.0|  1.0|  0.0|       A/5 21171|   7.25|       S|\n",
      "|          2|     1.0|   1.0|Cumings, Mrs. Joh...|female|38.0|  1.0|  0.0|        PC 17599|71.2833|       C|\n",
      "|          3|     1.0|   3.0|Heikkinen, Miss. ...|female|26.0|  0.0|  0.0|STON/O2. 3101282|  7.925|       S|\n",
      "|          4|     1.0|   1.0|Futrelle, Mrs. Ja...|female|35.0|  1.0|  0.0|          113803|   53.1|       S|\n",
      "|          5|     0.0|   3.0|Allen, Mr. Willia...|  male|35.0|  0.0|  0.0|          373450|   8.05|       S|\n",
      "|          6|     0.0|   3.0|    Moran, Mr. James|  male|28.0|  0.0|  0.0|          330877| 8.4583|       Q|\n",
      "|          7|     0.0|   1.0|McCarthy, Mr. Tim...|  male|54.0|  0.0|  0.0|           17463|51.8625|       S|\n",
      "|          8|     0.0|   3.0|Palsson, Master. ...|  male| 2.0|  3.0|  1.0|          349909| 21.075|       S|\n",
      "|          9|     1.0|   3.0|Johnson, Mrs. Osc...|female|27.0|  0.0|  2.0|          347742|11.1333|       S|\n",
      "|         10|     1.0|   2.0|Nasser, Mrs. Nich...|female|14.0|  1.0|  0.0|          237736|30.0708|       C|\n",
      "|         11|     1.0|   3.0|Sandstrom, Miss. ...|female| 4.0|  1.0|  1.0|         PP 9549|   16.7|       S|\n",
      "|         12|     1.0|   1.0|Bonnell, Miss. El...|female|58.0|  0.0|  0.0|          113783|  26.55|       S|\n",
      "|         13|     0.0|   3.0|Saundercock, Mr. ...|  male|20.0|  0.0|  0.0|       A/5. 2151|   8.05|       S|\n",
      "|         14|     0.0|   3.0|Andersson, Mr. An...|  male|39.0|  1.0|  5.0|          347082| 31.275|       S|\n",
      "|         15|     0.0|   3.0|Vestrom, Miss. Hu...|female|14.0|  0.0|  0.0|          350406| 7.8542|       S|\n",
      "|         16|     1.0|   2.0|Hewlett, Mrs. (Ma...|female|55.0|  0.0|  0.0|          248706|   16.0|       S|\n",
      "|         17|     0.0|   3.0|Rice, Master. Eugene|  male| 2.0|  4.0|  1.0|          382652| 29.125|       Q|\n",
      "|         18|     1.0|   2.0|Williams, Mr. Cha...|  male|28.0|  0.0|  0.0|          244373|   13.0|       S|\n",
      "|         19|     0.0|   3.0|Vander Planke, Mr...|female|31.0|  1.0|  0.0|          345763|   18.0|       S|\n",
      "|         20|     1.0|   3.0|Masselmani, Mrs. ...|female|28.0|  0.0|  0.0|            2649|  7.225|       C|\n",
      "+-----------+--------+------+--------------------+------+----+-----+-----+----------------+-------+--------+\n",
      "only showing top 20 rows"
     ]
    }
   ],
   "source": [
    "from pyspark.ml.feature import Imputer\n",
    "from pyspark.sql.functions import col, when, mean\n",
    "from pyspark.sql.functions import udf\n",
    "\n",
    "#Age\n",
    "mediana = df_spark.approxQuantile(\"age\", [0.5], 0)[0]\n",
    "df_spark = df_spark.fillna( { 'age':mediana } )\n",
    "\n",
    "#Cabin\n",
    "df_spark = df_spark.drop('Cabin')\n",
    "\n",
    "#Embarked\n",
    "df_spark = df_spark.na.drop(how='any')\n",
    "df_spark.show()"
   ]
  },
  {
   "cell_type": "code",
   "execution_count": 23,
   "metadata": {},
   "outputs": [
    {
     "data": {
      "application/vnd.jupyter.widget-view+json": {
       "model_id": "",
       "version_major": 2,
       "version_minor": 0
      },
      "text/plain": [
       "FloatProgress(value=0.0, bar_style='info', description='Progress:', layout=Layout(height='25px', width='50%'),…"
      ]
     },
     "metadata": {},
     "output_type": "display_data"
    },
    {
     "name": "stdout",
     "output_type": "stream",
     "text": [
      "{'PassengerId': 0.0, 'Survived': 0.0, 'Pclass': 0.0, 'Name': 0.0, 'Sex': 0.0, 'Age': 0.0, 'SibSp': 0.0, 'Parch': 0.0, 'Ticket': 0.0, 'Fare': 0.0, 'Embarked': 0.0}"
     ]
    }
   ],
   "source": [
    "Dict_Null = {col:df_spark.filter(df_spark[col].isNull()).count()/df_spark.count() for col in df_spark.columns}\n",
    "Dict_Null"
   ]
  },
  {
   "cell_type": "markdown",
   "metadata": {},
   "source": [
    "## Analisis Vector Objetivo"
   ]
  },
  {
   "cell_type": "code",
   "execution_count": 24,
   "metadata": {},
   "outputs": [
    {
     "data": {
      "application/vnd.jupyter.widget-view+json": {
       "model_id": "",
       "version_major": 2,
       "version_minor": 0
      },
      "text/plain": [
       "FloatProgress(value=0.0, bar_style='info', description='Progress:', layout=Layout(height='25px', width='50%'),…"
      ]
     },
     "metadata": {},
     "output_type": "display_data"
    },
    {
     "name": "stdout",
     "output_type": "stream",
     "text": [
      "+--------+-----+\n",
      "|Survived|count|\n",
      "+--------+-----+\n",
      "|     1.0|  340|\n",
      "|     0.0|  549|\n",
      "+--------+-----+"
     ]
    }
   ],
   "source": [
    "df_spark.groupBy('Survived').count().show()"
   ]
  },
  {
   "cell_type": "markdown",
   "metadata": {},
   "source": [
    "El dataset esta un poco desbalanceado a las personas que murieron, pero no demasiado, por lo que no es muy necesario hacer metodos de oversampling de muestra. No obstante, el modelo va a predecir mejor a las personas que murieron a que no murieron, ya que tienen mas datos para la prediccion"
   ]
  },
  {
   "cell_type": "markdown",
   "metadata": {},
   "source": [
    "## Columas : Ticket, Name y PassenderID"
   ]
  },
  {
   "cell_type": "code",
   "execution_count": 25,
   "metadata": {},
   "outputs": [
    {
     "data": {
      "application/vnd.jupyter.widget-view+json": {
       "model_id": "",
       "version_major": 2,
       "version_minor": 0
      },
      "text/plain": [
       "FloatProgress(value=0.0, bar_style='info', description='Progress:', layout=Layout(height='25px', width='50%'),…"
      ]
     },
     "metadata": {},
     "output_type": "display_data"
    },
    {
     "name": "stdout",
     "output_type": "stream",
     "text": [
      "+------------+-----+\n",
      "|      Ticket|count|\n",
      "+------------+-----+\n",
      "|    CA. 2343|    7|\n",
      "|      347082|    7|\n",
      "|        1601|    7|\n",
      "|     CA 2144|    6|\n",
      "|      347088|    6|\n",
      "|     3101295|    6|\n",
      "|      382652|    5|\n",
      "|S.O.C. 14879|    5|\n",
      "|       17421|    4|\n",
      "|        4133|    4|\n",
      "|      113781|    4|\n",
      "|      349909|    4|\n",
      "|        LINE|    4|\n",
      "|       19950|    4|\n",
      "|        2666|    4|\n",
      "|      347077|    4|\n",
      "|    PC 17757|    4|\n",
      "|  W./C. 6608|    4|\n",
      "|      113760|    4|\n",
      "|       35273|    3|\n",
      "+------------+-----+\n",
      "only showing top 20 rows"
     ]
    }
   ],
   "source": [
    "df_spark.groupBy('Ticket').count().sort('count', ascending = False).show()"
   ]
  },
  {
   "cell_type": "code",
   "execution_count": 26,
   "metadata": {},
   "outputs": [
    {
     "data": {
      "application/vnd.jupyter.widget-view+json": {
       "model_id": "",
       "version_major": 2,
       "version_minor": 0
      },
      "text/plain": [
       "FloatProgress(value=0.0, bar_style='info', description='Progress:', layout=Layout(height='25px', width='50%'),…"
      ]
     },
     "metadata": {},
     "output_type": "display_data"
    },
    {
     "name": "stdout",
     "output_type": "stream",
     "text": [
      "+--------------------+-----+\n",
      "|                Name|count|\n",
      "+--------------------+-----+\n",
      "|\"Duff Gordon, Lad...|    1|\n",
      "|Rush, Mr. Alfred ...|    1|\n",
      "|Bystrom, Mrs. (Ka...|    1|\n",
      "|     Foo, Mr. Choong|    1|\n",
      "|Lobb, Mr. William...|    1|\n",
      "|Alexander, Mr. Wi...|    1|\n",
      "|\"Mullens, Miss. K...|    1|\n",
      "| Ringhini, Mr. Sante|    1|\n",
      "|       Ling, Mr. Lee|    1|\n",
      "| Moor, Master. Meier|    1|\n",
      "|Chambers, Mrs. No...|    1|\n",
      "|Barton, Mr. David...|    1|\n",
      "|Sandstrom, Mrs. H...|    1|\n",
      "|    Osman, Mrs. Mara|    1|\n",
      "|White, Mr. Richar...|    1|\n",
      "|Hoyt, Mr. William...|    1|\n",
      "|Silverthorne, Mr....|    1|\n",
      "|Serepeca, Miss. A...|    1|\n",
      "|Roebling, Mr. Was...|    1|\n",
      "|   Karaic, Mr. Milan|    1|\n",
      "+--------------------+-----+\n",
      "only showing top 20 rows"
     ]
    }
   ],
   "source": [
    "df_spark.groupBy('Name').count().sort('count', ascending = False).show()"
   ]
  },
  {
   "cell_type": "markdown",
   "metadata": {},
   "source": [
    "La columna name y ticket representan el nombre y el ticket de la persona del titanic, se puede hacer distintos analisis mas detallado para estas columnas, pero por mayor simplificadad, no las voy a contablizar en el modelo, eliminandolas del dataset."
   ]
  },
  {
   "cell_type": "code",
   "execution_count": 27,
   "metadata": {},
   "outputs": [
    {
     "data": {
      "application/vnd.jupyter.widget-view+json": {
       "model_id": "",
       "version_major": 2,
       "version_minor": 0
      },
      "text/plain": [
       "FloatProgress(value=0.0, bar_style='info', description='Progress:', layout=Layout(height='25px', width='50%'),…"
      ]
     },
     "metadata": {},
     "output_type": "display_data"
    },
    {
     "name": "stdout",
     "output_type": "stream",
     "text": [
      "+--------+------+------+----+-----+-----+-------+--------+\n",
      "|Survived|Pclass|   Sex| Age|SibSp|Parch|   Fare|Embarked|\n",
      "+--------+------+------+----+-----+-----+-------+--------+\n",
      "|     0.0|   3.0|  male|22.0|  1.0|  0.0|   7.25|       S|\n",
      "|     1.0|   1.0|female|38.0|  1.0|  0.0|71.2833|       C|\n",
      "|     1.0|   3.0|female|26.0|  0.0|  0.0|  7.925|       S|\n",
      "|     1.0|   1.0|female|35.0|  1.0|  0.0|   53.1|       S|\n",
      "|     0.0|   3.0|  male|35.0|  0.0|  0.0|   8.05|       S|\n",
      "|     0.0|   3.0|  male|28.0|  0.0|  0.0| 8.4583|       Q|\n",
      "|     0.0|   1.0|  male|54.0|  0.0|  0.0|51.8625|       S|\n",
      "|     0.0|   3.0|  male| 2.0|  3.0|  1.0| 21.075|       S|\n",
      "|     1.0|   3.0|female|27.0|  0.0|  2.0|11.1333|       S|\n",
      "|     1.0|   2.0|female|14.0|  1.0|  0.0|30.0708|       C|\n",
      "|     1.0|   3.0|female| 4.0|  1.0|  1.0|   16.7|       S|\n",
      "|     1.0|   1.0|female|58.0|  0.0|  0.0|  26.55|       S|\n",
      "|     0.0|   3.0|  male|20.0|  0.0|  0.0|   8.05|       S|\n",
      "|     0.0|   3.0|  male|39.0|  1.0|  5.0| 31.275|       S|\n",
      "|     0.0|   3.0|female|14.0|  0.0|  0.0| 7.8542|       S|\n",
      "|     1.0|   2.0|female|55.0|  0.0|  0.0|   16.0|       S|\n",
      "|     0.0|   3.0|  male| 2.0|  4.0|  1.0| 29.125|       Q|\n",
      "|     1.0|   2.0|  male|28.0|  0.0|  0.0|   13.0|       S|\n",
      "|     0.0|   3.0|female|31.0|  1.0|  0.0|   18.0|       S|\n",
      "|     1.0|   3.0|female|28.0|  0.0|  0.0|  7.225|       C|\n",
      "+--------+------+------+----+-----+-----+-------+--------+\n",
      "only showing top 20 rows"
     ]
    }
   ],
   "source": [
    "#Name, ticket y Passenger\n",
    "df_spark = df_spark.drop('Name')\n",
    "df_spark = df_spark.drop('Ticket')\n",
    "df_spark = df_spark.drop('PassengerId')\n",
    "df_spark.show()"
   ]
  },
  {
   "cell_type": "markdown",
   "metadata": {},
   "source": [
    "## Analisis Multi-Variado"
   ]
  },
  {
   "cell_type": "markdown",
   "metadata": {},
   "source": [
    "**Pclass**"
   ]
  },
  {
   "cell_type": "code",
   "execution_count": 28,
   "metadata": {},
   "outputs": [
    {
     "data": {
      "application/vnd.jupyter.widget-view+json": {
       "model_id": "",
       "version_major": 2,
       "version_minor": 0
      },
      "text/plain": [
       "FloatProgress(value=0.0, bar_style='info', description='Progress:', layout=Layout(height='25px', width='50%'),…"
      ]
     },
     "metadata": {},
     "output_type": "display_data"
    },
    {
     "name": "stdout",
     "output_type": "stream",
     "text": [
      "+--------+------+-----+\n",
      "|Survived|Pclass|count|\n",
      "+--------+------+-----+\n",
      "|     1.0|   1.0|  134|\n",
      "|     0.0|   1.0|   80|\n",
      "|     1.0|   3.0|  119|\n",
      "|     1.0|   2.0|   87|\n",
      "|     0.0|   2.0|   97|\n",
      "|     0.0|   3.0|  372|\n",
      "+--------+------+-----+"
     ]
    }
   ],
   "source": [
    "df_spark.groupBy('Survived','Pclass').count().show()"
   ]
  },
  {
   "cell_type": "markdown",
   "metadata": {},
   "source": [
    "Como se puede apreciar, la clase 3 es la clase mas propensa a morir, y la clase 1 contiene mas sobreviviente. Esto quiere decir, que en el titanic, la clase de la persona, si fue un factor importante en la sobrevivincia de las personas. En la pelicula uno veia, que las personas con mayores recuersos, entraron a los botes primero."
   ]
  },
  {
   "cell_type": "markdown",
   "metadata": {},
   "source": [
    "**Sexo**"
   ]
  },
  {
   "cell_type": "code",
   "execution_count": 29,
   "metadata": {},
   "outputs": [
    {
     "data": {
      "application/vnd.jupyter.widget-view+json": {
       "model_id": "",
       "version_major": 2,
       "version_minor": 0
      },
      "text/plain": [
       "FloatProgress(value=0.0, bar_style='info', description='Progress:', layout=Layout(height='25px', width='50%'),…"
      ]
     },
     "metadata": {},
     "output_type": "display_data"
    },
    {
     "name": "stdout",
     "output_type": "stream",
     "text": [
      "+--------+------+-----+\n",
      "|Survived|   Sex|count|\n",
      "+--------+------+-----+\n",
      "|     0.0|female|   81|\n",
      "|     0.0|  male|  468|\n",
      "|     1.0|female|  231|\n",
      "|     1.0|  male|  109|\n",
      "+--------+------+-----+"
     ]
    }
   ],
   "source": [
    "df_spark.groupBy('Survived','Sex').count().sort('Survived').show()"
   ]
  },
  {
   "cell_type": "markdown",
   "metadata": {},
   "source": [
    "En la pelicula, tambien se veia que los niños y las mujeres fueron entradas primeros a los botes, lo que, se conside con los resultados encontrados. Las mujeres eran mas propensas a sobrevivir que los hombres"
   ]
  },
  {
   "cell_type": "markdown",
   "metadata": {},
   "source": [
    "**Age**"
   ]
  },
  {
   "cell_type": "code",
   "execution_count": 30,
   "metadata": {},
   "outputs": [
    {
     "data": {
      "application/vnd.jupyter.widget-view+json": {
       "model_id": "",
       "version_major": 2,
       "version_minor": 0
      },
      "text/plain": [
       "FloatProgress(value=0.0, bar_style='info', description='Progress:', layout=Layout(height='25px', width='50%'),…"
      ]
     },
     "metadata": {},
     "output_type": "display_data"
    },
    {
     "name": "stdout",
     "output_type": "stream",
     "text": [
      "Edad Promedio de los sobreviviente:\n",
      "+------------------+\n",
      "|          avg(age)|\n",
      "+------------------+\n",
      "|28.163735294117647|\n",
      "+------------------+\n",
      "\n",
      "None\n",
      "Edad Promedio de los NO sobreviviente:\n",
      "+------------------+\n",
      "|          avg(age)|\n",
      "+------------------+\n",
      "|30.028233151183972|\n",
      "+------------------+\n",
      "\n",
      "None"
     ]
    }
   ],
   "source": [
    "print('Edad Promedio de los sobreviviente:')\n",
    "print(df_spark.filter(df_spark.Survived == 1).select(mean('age')).show())\n",
    "\n",
    "print('Edad Promedio de los NO sobreviviente:')\n",
    "print(df_spark.filter(df_spark.Survived == 0).select(mean('age')).show())"
   ]
  },
  {
   "cell_type": "markdown",
   "metadata": {},
   "source": [
    "Se puede apreciar que no hay una gran diferencia entre el promedio de las edad de los sobreviviente con los no sobreviviente, por lo que, la edad podria seruna variable no estan relevante a la hora del modelo."
   ]
  },
  {
   "cell_type": "markdown",
   "metadata": {},
   "source": [
    "**Familia Tamaña**"
   ]
  },
  {
   "cell_type": "code",
   "execution_count": 31,
   "metadata": {},
   "outputs": [
    {
     "data": {
      "application/vnd.jupyter.widget-view+json": {
       "model_id": "",
       "version_major": 2,
       "version_minor": 0
      },
      "text/plain": [
       "FloatProgress(value=0.0, bar_style='info', description='Progress:', layout=Layout(height='25px', width='50%'),…"
      ]
     },
     "metadata": {},
     "output_type": "display_data"
    },
    {
     "name": "stdout",
     "output_type": "stream",
     "text": [
      "+--------+------+------+----+-----+-----+-------+--------+---------------+\n",
      "|Survived|Pclass|   Sex| Age|SibSp|Parch|   Fare|Embarked|tamaño_familiar|\n",
      "+--------+------+------+----+-----+-----+-------+--------+---------------+\n",
      "|     0.0|   3.0|  male|22.0|  1.0|  0.0|   7.25|       S|            2.0|\n",
      "|     1.0|   1.0|female|38.0|  1.0|  0.0|71.2833|       C|            2.0|\n",
      "|     1.0|   3.0|female|26.0|  0.0|  0.0|  7.925|       S|            1.0|\n",
      "|     1.0|   1.0|female|35.0|  1.0|  0.0|   53.1|       S|            2.0|\n",
      "|     0.0|   3.0|  male|35.0|  0.0|  0.0|   8.05|       S|            1.0|\n",
      "|     0.0|   3.0|  male|28.0|  0.0|  0.0| 8.4583|       Q|            1.0|\n",
      "|     0.0|   1.0|  male|54.0|  0.0|  0.0|51.8625|       S|            1.0|\n",
      "|     0.0|   3.0|  male| 2.0|  3.0|  1.0| 21.075|       S|            5.0|\n",
      "|     1.0|   3.0|female|27.0|  0.0|  2.0|11.1333|       S|            3.0|\n",
      "|     1.0|   2.0|female|14.0|  1.0|  0.0|30.0708|       C|            2.0|\n",
      "|     1.0|   3.0|female| 4.0|  1.0|  1.0|   16.7|       S|            3.0|\n",
      "|     1.0|   1.0|female|58.0|  0.0|  0.0|  26.55|       S|            1.0|\n",
      "|     0.0|   3.0|  male|20.0|  0.0|  0.0|   8.05|       S|            1.0|\n",
      "|     0.0|   3.0|  male|39.0|  1.0|  5.0| 31.275|       S|            7.0|\n",
      "|     0.0|   3.0|female|14.0|  0.0|  0.0| 7.8542|       S|            1.0|\n",
      "|     1.0|   2.0|female|55.0|  0.0|  0.0|   16.0|       S|            1.0|\n",
      "|     0.0|   3.0|  male| 2.0|  4.0|  1.0| 29.125|       Q|            6.0|\n",
      "|     1.0|   2.0|  male|28.0|  0.0|  0.0|   13.0|       S|            1.0|\n",
      "|     0.0|   3.0|female|31.0|  1.0|  0.0|   18.0|       S|            2.0|\n",
      "|     1.0|   3.0|female|28.0|  0.0|  0.0|  7.225|       C|            1.0|\n",
      "+--------+------+------+----+-----+-----+-------+--------+---------------+\n",
      "only showing top 20 rows"
     ]
    }
   ],
   "source": [
    "df_spark = df_spark.withColumn('tamaño_familiar',col('Parch') + col('SibSp') + 1  )\n",
    "df_spark.show()"
   ]
  },
  {
   "cell_type": "markdown",
   "metadata": {},
   "source": [
    "**Fare**"
   ]
  },
  {
   "cell_type": "code",
   "execution_count": 32,
   "metadata": {},
   "outputs": [
    {
     "data": {
      "application/vnd.jupyter.widget-view+json": {
       "model_id": "",
       "version_major": 2,
       "version_minor": 0
      },
      "text/plain": [
       "FloatProgress(value=0.0, bar_style='info', description='Progress:', layout=Layout(height='25px', width='50%'),…"
      ]
     },
     "metadata": {},
     "output_type": "display_data"
    },
    {
     "name": "stdout",
     "output_type": "stream",
     "text": [
      "Precio Promedio de los sobreviviente:\n",
      "+------------------+\n",
      "|         avg(Fare)|\n",
      "+------------------+\n",
      "|48.209498235294106|\n",
      "+------------------+\n",
      "\n",
      "None\n",
      "Precio Promedio de los NO sobreviviente:\n",
      "+------------------+\n",
      "|         avg(Fare)|\n",
      "+------------------+\n",
      "|22.117886885245877|\n",
      "+------------------+\n",
      "\n",
      "None"
     ]
    }
   ],
   "source": [
    "print('Precio Promedio de los sobreviviente:')\n",
    "print(df_spark.filter(df_spark.Survived == 1).select(mean('Fare')).show())\n",
    "\n",
    "print('Precio Promedio de los NO sobreviviente:')\n",
    "print(df_spark.filter(df_spark.Survived == 0).select(mean('Fare')).show())"
   ]
  },
  {
   "cell_type": "markdown",
   "metadata": {},
   "source": [
    "Del precio promedio, se puede desprender que las personas con mayores precio del ticket, tenian mayor propencion a sobrevivir, mas que las personas con ticket bajos"
   ]
  },
  {
   "cell_type": "markdown",
   "metadata": {},
   "source": [
    "**Embarked**"
   ]
  },
  {
   "cell_type": "code",
   "execution_count": 33,
   "metadata": {},
   "outputs": [
    {
     "data": {
      "application/vnd.jupyter.widget-view+json": {
       "model_id": "",
       "version_major": 2,
       "version_minor": 0
      },
      "text/plain": [
       "FloatProgress(value=0.0, bar_style='info', description='Progress:', layout=Layout(height='25px', width='50%'),…"
      ]
     },
     "metadata": {},
     "output_type": "display_data"
    },
    {
     "name": "stdout",
     "output_type": "stream",
     "text": [
      "+--------+--------+-----+\n",
      "|Survived|Embarked|count|\n",
      "+--------+--------+-----+\n",
      "|     0.0|       S|  427|\n",
      "|     0.0|       C|   75|\n",
      "|     0.0|       Q|   47|\n",
      "|     1.0|       C|   93|\n",
      "|     1.0|       Q|   30|\n",
      "|     1.0|       S|  217|\n",
      "+--------+--------+-----+"
     ]
    }
   ],
   "source": [
    "df_spark.groupBy('Survived','Embarked').count().sort('Survived').show()"
   ]
  },
  {
   "cell_type": "markdown",
   "metadata": {},
   "source": [
    "## Transformacion y Reproceso de columnas"
   ]
  },
  {
   "cell_type": "code",
   "execution_count": 34,
   "metadata": {},
   "outputs": [
    {
     "data": {
      "application/vnd.jupyter.widget-view+json": {
       "model_id": "",
       "version_major": 2,
       "version_minor": 0
      },
      "text/plain": [
       "FloatProgress(value=0.0, bar_style='info', description='Progress:', layout=Layout(height='25px', width='50%'),…"
      ]
     },
     "metadata": {},
     "output_type": "display_data"
    },
    {
     "name": "stdout",
     "output_type": "stream",
     "text": [
      "+--------+------+------+----+-----+-----+-------+--------+---------------+--------+-------------+\n",
      "|Survived|Pclass|   Sex| Age|SibSp|Parch|   Fare|Embarked|tamaño_familiar|SexIndex|EmbarkedIndex|\n",
      "+--------+------+------+----+-----+-----+-------+--------+---------------+--------+-------------+\n",
      "|     0.0|   3.0|  male|22.0|  1.0|  0.0|   7.25|       S|            2.0|     0.0|          0.0|\n",
      "|     1.0|   1.0|female|38.0|  1.0|  0.0|71.2833|       C|            2.0|     1.0|          1.0|\n",
      "|     1.0|   3.0|female|26.0|  0.0|  0.0|  7.925|       S|            1.0|     1.0|          0.0|\n",
      "|     1.0|   1.0|female|35.0|  1.0|  0.0|   53.1|       S|            2.0|     1.0|          0.0|\n",
      "|     0.0|   3.0|  male|35.0|  0.0|  0.0|   8.05|       S|            1.0|     0.0|          0.0|\n",
      "|     0.0|   3.0|  male|28.0|  0.0|  0.0| 8.4583|       Q|            1.0|     0.0|          2.0|\n",
      "|     0.0|   1.0|  male|54.0|  0.0|  0.0|51.8625|       S|            1.0|     0.0|          0.0|\n",
      "|     0.0|   3.0|  male| 2.0|  3.0|  1.0| 21.075|       S|            5.0|     0.0|          0.0|\n",
      "|     1.0|   3.0|female|27.0|  0.0|  2.0|11.1333|       S|            3.0|     1.0|          0.0|\n",
      "|     1.0|   2.0|female|14.0|  1.0|  0.0|30.0708|       C|            2.0|     1.0|          1.0|\n",
      "|     1.0|   3.0|female| 4.0|  1.0|  1.0|   16.7|       S|            3.0|     1.0|          0.0|\n",
      "|     1.0|   1.0|female|58.0|  0.0|  0.0|  26.55|       S|            1.0|     1.0|          0.0|\n",
      "|     0.0|   3.0|  male|20.0|  0.0|  0.0|   8.05|       S|            1.0|     0.0|          0.0|\n",
      "|     0.0|   3.0|  male|39.0|  1.0|  5.0| 31.275|       S|            7.0|     0.0|          0.0|\n",
      "|     0.0|   3.0|female|14.0|  0.0|  0.0| 7.8542|       S|            1.0|     1.0|          0.0|\n",
      "|     1.0|   2.0|female|55.0|  0.0|  0.0|   16.0|       S|            1.0|     1.0|          0.0|\n",
      "|     0.0|   3.0|  male| 2.0|  4.0|  1.0| 29.125|       Q|            6.0|     0.0|          2.0|\n",
      "|     1.0|   2.0|  male|28.0|  0.0|  0.0|   13.0|       S|            1.0|     0.0|          0.0|\n",
      "|     0.0|   3.0|female|31.0|  1.0|  0.0|   18.0|       S|            2.0|     1.0|          0.0|\n",
      "|     1.0|   3.0|female|28.0|  0.0|  0.0|  7.225|       C|            1.0|     1.0|          1.0|\n",
      "+--------+------+------+----+-----+-----+-------+--------+---------------+--------+-------------+\n",
      "only showing top 20 rows"
     ]
    }
   ],
   "source": [
    "# Transformamos a vectores OneHot las columnas \"importantes\"\n",
    "from pyspark.ml.feature import StringIndexer\n",
    "\n",
    "important_columns = ['Sex', 'Embarked']\n",
    "indexed_important_columns = []\n",
    "\n",
    "for col in important_columns:\n",
    "  indexer = StringIndexer(inputCol=col, outputCol=col + 'Index')\n",
    "  indexed_important_columns.append(col + 'Index')\n",
    "  df_spark = indexer.fit(df_spark).transform(df_spark)\n",
    "\n",
    "df_spark.show()"
   ]
  },
  {
   "cell_type": "code",
   "execution_count": 36,
   "metadata": {},
   "outputs": [
    {
     "data": {
      "application/vnd.jupyter.widget-view+json": {
       "model_id": "",
       "version_major": 2,
       "version_minor": 0
      },
      "text/plain": [
       "FloatProgress(value=0.0, bar_style='info', description='Progress:', layout=Layout(height='25px', width='50%'),…"
      ]
     },
     "metadata": {},
     "output_type": "display_data"
    },
    {
     "name": "stdout",
     "output_type": "stream",
     "text": [
      "+--------+------+------+----+-----+-----+-------+--------+---------------+--------+-------------+-------------+-------------+\n",
      "|Survived|Pclass|   Sex| Age|SibSp|Parch|   Fare|Embarked|tamaño_familiar|SexIndex|EmbarkedIndex|       SexVec|  EmbarkedVec|\n",
      "+--------+------+------+----+-----+-----+-------+--------+---------------+--------+-------------+-------------+-------------+\n",
      "|     0.0|   3.0|  male|22.0|  1.0|  0.0|   7.25|       S|            2.0|     0.0|          0.0|(1,[0],[1.0])|(2,[0],[1.0])|\n",
      "|     1.0|   1.0|female|38.0|  1.0|  0.0|71.2833|       C|            2.0|     1.0|          1.0|    (1,[],[])|(2,[1],[1.0])|\n",
      "|     1.0|   3.0|female|26.0|  0.0|  0.0|  7.925|       S|            1.0|     1.0|          0.0|    (1,[],[])|(2,[0],[1.0])|\n",
      "|     1.0|   1.0|female|35.0|  1.0|  0.0|   53.1|       S|            2.0|     1.0|          0.0|    (1,[],[])|(2,[0],[1.0])|\n",
      "|     0.0|   3.0|  male|35.0|  0.0|  0.0|   8.05|       S|            1.0|     0.0|          0.0|(1,[0],[1.0])|(2,[0],[1.0])|\n",
      "|     0.0|   3.0|  male|28.0|  0.0|  0.0| 8.4583|       Q|            1.0|     0.0|          2.0|(1,[0],[1.0])|    (2,[],[])|\n",
      "|     0.0|   1.0|  male|54.0|  0.0|  0.0|51.8625|       S|            1.0|     0.0|          0.0|(1,[0],[1.0])|(2,[0],[1.0])|\n",
      "|     0.0|   3.0|  male| 2.0|  3.0|  1.0| 21.075|       S|            5.0|     0.0|          0.0|(1,[0],[1.0])|(2,[0],[1.0])|\n",
      "|     1.0|   3.0|female|27.0|  0.0|  2.0|11.1333|       S|            3.0|     1.0|          0.0|    (1,[],[])|(2,[0],[1.0])|\n",
      "|     1.0|   2.0|female|14.0|  1.0|  0.0|30.0708|       C|            2.0|     1.0|          1.0|    (1,[],[])|(2,[1],[1.0])|\n",
      "|     1.0|   3.0|female| 4.0|  1.0|  1.0|   16.7|       S|            3.0|     1.0|          0.0|    (1,[],[])|(2,[0],[1.0])|\n",
      "|     1.0|   1.0|female|58.0|  0.0|  0.0|  26.55|       S|            1.0|     1.0|          0.0|    (1,[],[])|(2,[0],[1.0])|\n",
      "|     0.0|   3.0|  male|20.0|  0.0|  0.0|   8.05|       S|            1.0|     0.0|          0.0|(1,[0],[1.0])|(2,[0],[1.0])|\n",
      "|     0.0|   3.0|  male|39.0|  1.0|  5.0| 31.275|       S|            7.0|     0.0|          0.0|(1,[0],[1.0])|(2,[0],[1.0])|\n",
      "|     0.0|   3.0|female|14.0|  0.0|  0.0| 7.8542|       S|            1.0|     1.0|          0.0|    (1,[],[])|(2,[0],[1.0])|\n",
      "|     1.0|   2.0|female|55.0|  0.0|  0.0|   16.0|       S|            1.0|     1.0|          0.0|    (1,[],[])|(2,[0],[1.0])|\n",
      "|     0.0|   3.0|  male| 2.0|  4.0|  1.0| 29.125|       Q|            6.0|     0.0|          2.0|(1,[0],[1.0])|    (2,[],[])|\n",
      "|     1.0|   2.0|  male|28.0|  0.0|  0.0|   13.0|       S|            1.0|     0.0|          0.0|(1,[0],[1.0])|(2,[0],[1.0])|\n",
      "|     0.0|   3.0|female|31.0|  1.0|  0.0|   18.0|       S|            2.0|     1.0|          0.0|    (1,[],[])|(2,[0],[1.0])|\n",
      "|     1.0|   3.0|female|28.0|  0.0|  0.0|  7.225|       C|            1.0|     1.0|          1.0|    (1,[],[])|(2,[1],[1.0])|\n",
      "+--------+------+------+----+-----+-----+-------+--------+---------------+--------+-------------+-------------+-------------+\n",
      "only showing top 20 rows"
     ]
    }
   ],
   "source": [
    "# Transformamos los indices en vectores\n",
    "from pyspark.ml.feature import OneHotEncoderEstimator\n",
    "\n",
    "vectorized_important_columns = [a.replace('Index','Vec') for a in indexed_important_columns]\n",
    "\n",
    "encoder = OneHotEncoderEstimator(inputCols=indexed_important_columns,\n",
    "                                 outputCols=vectorized_important_columns)\n",
    "modelVec = encoder.fit(df_spark)\n",
    "encoded = modelVec.transform(df_spark)\n",
    "encoded.show()"
   ]
  },
  {
   "cell_type": "markdown",
   "metadata": {},
   "source": [
    "## VectorAssempler"
   ]
  },
  {
   "cell_type": "code",
   "execution_count": 37,
   "metadata": {},
   "outputs": [
    {
     "data": {
      "application/vnd.jupyter.widget-view+json": {
       "model_id": "",
       "version_major": 2,
       "version_minor": 0
      },
      "text/plain": [
       "FloatProgress(value=0.0, bar_style='info', description='Progress:', layout=Layout(height='25px', width='50%'),…"
      ]
     },
     "metadata": {},
     "output_type": "display_data"
    }
   ],
   "source": [
    "from pyspark.ml.feature import VectorAssembler\n",
    "\n",
    "\n",
    "inputCols = [\n",
    " 'Pclass',\n",
    " 'Age',\n",
    " 'tamaño_familiar',\n",
    " 'Fare',\n",
    " 'SexVec',\n",
    " 'EmbarkedVec'\n",
    "]\n",
    "\n",
    "outputCol = \"feactures\"\n",
    "df_vector = VectorAssembler(inputCols = inputCols, outputCol = outputCol)\n"
   ]
  },
  {
   "cell_type": "markdown",
   "metadata": {},
   "source": [
    "## Split train y test"
   ]
  },
  {
   "cell_type": "code",
   "execution_count": 41,
   "metadata": {},
   "outputs": [
    {
     "data": {
      "application/vnd.jupyter.widget-view+json": {
       "model_id": "",
       "version_major": 2,
       "version_minor": 0
      },
      "text/plain": [
       "FloatProgress(value=0.0, bar_style='info', description='Progress:', layout=Layout(height='25px', width='50%'),…"
      ]
     },
     "metadata": {},
     "output_type": "display_data"
    },
    {
     "name": "stdout",
     "output_type": "stream",
     "text": [
      "+--------------------+\n",
      "|           feactures|\n",
      "+--------------------+\n",
      "|[1.0,2.0,4.0,151....|\n",
      "|[1.0,25.0,4.0,151...|\n",
      "|[1.0,50.0,1.0,28....|\n",
      "|[1.0,19.0,6.0,263...|\n",
      "|[1.0,21.0,2.0,77....|\n",
      "|[1.0,24.0,2.0,247...|\n",
      "|[1.0,27.0,3.0,211...|\n",
      "|[1.0,28.0,1.0,0.0...|\n",
      "|[1.0,28.0,1.0,27....|\n",
      "|[1.0,28.0,1.0,30....|\n",
      "|[1.0,28.0,1.0,31....|\n",
      "|[1.0,28.0,1.0,35....|\n",
      "|[1.0,28.0,1.0,39....|\n",
      "|[1.0,28.0,1.0,50....|\n",
      "|[1.0,28.0,1.0,221...|\n",
      "|[1.0,29.0,1.0,30....|\n",
      "|[1.0,29.0,2.0,66....|\n",
      "|[1.0,30.0,1.0,27....|\n",
      "|[1.0,31.0,1.0,50....|\n",
      "|[1.0,31.0,2.0,52....|\n",
      "+--------------------+\n",
      "only showing top 20 rows"
     ]
    }
   ],
   "source": [
    "train_vector, test_vector = encoded.randomSplit([0.7,0.3])\n",
    "\n",
    "train_vector = df_vector.transform(train_vector)\n",
    "test_vector = df_vector.transform(test_vector)\n",
    "\n",
    "train_vector.select('feactures').show()"
   ]
  },
  {
   "cell_type": "markdown",
   "metadata": {},
   "source": [
    "## Modelo"
   ]
  },
  {
   "cell_type": "code",
   "execution_count": 42,
   "metadata": {},
   "outputs": [
    {
     "data": {
      "application/vnd.jupyter.widget-view+json": {
       "model_id": "",
       "version_major": 2,
       "version_minor": 0
      },
      "text/plain": [
       "FloatProgress(value=0.0, bar_style='info', description='Progress:', layout=Layout(height='25px', width='50%'),…"
      ]
     },
     "metadata": {},
     "output_type": "display_data"
    }
   ],
   "source": [
    "from pyspark.ml.classification import LogisticRegression\n",
    "from pyspark.ml.classification import GBTClassifier\n",
    "from pyspark.ml.classification import DecisionTreeClassifier"
   ]
  },
  {
   "cell_type": "code",
   "execution_count": 43,
   "metadata": {},
   "outputs": [
    {
     "data": {
      "application/vnd.jupyter.widget-view+json": {
       "model_id": "",
       "version_major": 2,
       "version_minor": 0
      },
      "text/plain": [
       "FloatProgress(value=0.0, bar_style='info', description='Progress:', layout=Layout(height='25px', width='50%'),…"
      ]
     },
     "metadata": {},
     "output_type": "display_data"
    }
   ],
   "source": [
    "lr = LogisticRegression(featuresCol = 'feactures', labelCol = 'Survived', maxIter=10)\n",
    "lrModel = lr.fit(train_vector)\n",
    "\n",
    "gbt = GBTClassifier(labelCol=\"Survived\",\n",
    "                    featuresCol=\"feactures\")\n",
    "\n",
    "gbt_model = gbt.fit(train_vector)\n",
    "\n",
    "dt = DecisionTreeClassifier(labelCol=\"Survived\", featuresCol=\"feactures\")\n",
    "tres_modelo = dt.fit(train_vector)"
   ]
  },
  {
   "cell_type": "code",
   "execution_count": 62,
   "metadata": {},
   "outputs": [
    {
     "data": {
      "application/vnd.jupyter.widget-view+json": {
       "model_id": "",
       "version_major": 2,
       "version_minor": 0
      },
      "text/plain": [
       "FloatProgress(value=0.0, bar_style='info', description='Progress:', layout=Layout(height='25px', width='50%'),…"
      ]
     },
     "metadata": {},
     "output_type": "display_data"
    }
   ],
   "source": [
    "from pyspark.mllib.evaluation import BinaryClassificationMetrics, MulticlassMetrics\n",
    "\n",
    "def metricas(modelo, df, tipomodelo):\n",
    "    predictionAndTarget = modelo.transform(df).select(\"Survived\", \"prediction\")\n",
    "    metrics_binary = BinaryClassificationMetrics(predictionAndTarget.rdd.map(tuple))\n",
    "    metrics_multi = MulticlassMetrics(predictionAndTarget.rdd.map(tuple))\n",
    "    \n",
    "    acc = metrics_multi.accuracy\n",
    "    f1 = metrics_multi.fMeasure(1.0)\n",
    "    precision = metrics_multi.precision(1.0)\n",
    "    recall = metrics_multi.recall(1.0)\n",
    "    auc = metrics_binary.areaUnderROC\n",
    "    \n",
    "    print('Los resultados del modelo {}'.format(tipomodelo))\n",
    "    print('\\n')\n",
    "    print(\"La Accuracy del modelo es {}:\".format(acc))\n",
    "    print(\"El F1 del modelo es: {}\".format(f1))\n",
    "    print(\"La precision del modelo es: {}\".format(precision))\n",
    "    print(\"La recall del modelo es: {}\".format(recall))\n",
    "    print(\"La curva AUC del modelo es: {}\".format(auc))  \n",
    "    print('\\n')"
   ]
  },
  {
   "cell_type": "code",
   "execution_count": 63,
   "metadata": {},
   "outputs": [
    {
     "data": {
      "application/vnd.jupyter.widget-view+json": {
       "model_id": "",
       "version_major": 2,
       "version_minor": 0
      },
      "text/plain": [
       "FloatProgress(value=0.0, bar_style='info', description='Progress:', layout=Layout(height='25px', width='50%'),…"
      ]
     },
     "metadata": {},
     "output_type": "display_data"
    },
    {
     "name": "stdout",
     "output_type": "stream",
     "text": [
      "Los resultados del modelo RegresionLogistica\n",
      "\n",
      "\n",
      "La Accuracy del modelo es 0.7789855072463768:\n",
      "El F1 del modelo es: 0.680628272251309\n",
      "La precision del modelo es: 0.6632653061224489\n",
      "La recall del modelo es: 0.6989247311827957\n",
      "La curva AUC del modelo es: 0.7592984311651684\n",
      "\n",
      "\n",
      "Los resultados del modelo GTBClassifier\n",
      "\n",
      "\n",
      "La Accuracy del modelo es 0.8152173913043478:\n",
      "El F1 del modelo es: 0.7357512953367875\n",
      "La precision del modelo es: 0.7244897959183674\n",
      "La recall del modelo es: 0.7473684210526316\n",
      "La curva AUC del modelo es: 0.7990985751672\n",
      "\n",
      "\n",
      "Los resultados del modelo Arbol de Decision\n",
      "\n",
      "\n",
      "La Accuracy del modelo es 0.8007246376811594:\n",
      "El F1 del modelo es: 0.7342995169082126\n",
      "La precision del modelo es: 0.7755102040816326\n",
      "La recall del modelo es: 0.6972477064220184\n",
      "La curva AUC del modelo es: 0.7827555897379552"
     ]
    }
   ],
   "source": [
    "modelos_lista = [\n",
    "    {\n",
    "        \"modelo\": lrModel,\n",
    "        \"nombre\": \"RegresionLogistica\"\n",
    "    },\n",
    "    {\n",
    "        \"modelo\": gbt_model,\n",
    "        \"nombre\": \"GTBClassifier\"\n",
    "    },\n",
    "    {\n",
    "        \"modelo\": tres_modelo,\n",
    "        \"nombre\": \"Arbol de Decision\"\n",
    "    }\n",
    "]\n",
    "\n",
    "for model in modelos_lista:\n",
    "    metricas(model[\"modelo\"], test_vector, model[\"nombre\"])"
   ]
  },
  {
   "cell_type": "markdown",
   "metadata": {},
   "source": [
    "El mejor modelo es el GTBClassifier, con un curva AUC del 0.79908, y una accuracy del 0.815 para el test_vector"
   ]
  }
 ],
 "metadata": {
  "kernelspec": {
   "display_name": "PySpark",
   "language": "",
   "name": "pysparkkernel"
  },
  "language_info": {
   "codemirror_mode": {
    "name": "python",
    "version": 3
   },
   "mimetype": "text/x-python",
   "name": "pyspark",
   "pygments_lexer": "python3"
  }
 },
 "nbformat": 4,
 "nbformat_minor": 4
}
